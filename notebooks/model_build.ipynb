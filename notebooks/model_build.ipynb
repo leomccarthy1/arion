{
 "cells": [
  {
   "cell_type": "code",
   "execution_count": 1,
   "metadata": {},
   "outputs": [],
   "source": [
    "import pandas as pd\n",
    "import lightgbm as lgb \n",
    "import matplotlib.pyplot as plt\n",
    "import numpy as np\n",
    "from sklearn.model_selection import StratifiedKFold\n",
    "import seaborn as sns\n",
    "from sklearn.metrics import log_loss\n",
    "from sklearn.calibration import calibration_curve\n",
    "import sys\n",
    "import os\n",
    "module_path = os.path.abspath(os.path.join('..'))\n",
    "if module_path not in sys.path:\n",
    "    sys.path.append(module_path)\n",
    "from arion.models.core import  ArionModel\n",
    "import pickle\n",
    "from datetime import datetime"
   ]
  },
  {
   "cell_type": "code",
   "execution_count": 2,
   "metadata": {},
   "outputs": [],
   "source": [
    "df_race = pd.read_csv(\"../data/processed.csv\", parse_dates=['date','datetime'])"
   ]
  },
  {
   "cell_type": "code",
   "execution_count": 2,
   "metadata": {},
   "outputs": [],
   "source": [
    "racecard = pd.read_csv(f'../data/racecards/processed/{datetime.today().strftime(\"%Y_%m_%d\")}.csv')"
   ]
  },
  {
   "cell_type": "code",
   "execution_count": 3,
   "metadata": {},
   "outputs": [],
   "source": [
    "race = racecard.loc[racecard['race_id'] == 804351]"
   ]
  },
  {
   "cell_type": "code",
   "execution_count": 4,
   "metadata": {},
   "outputs": [
    {
     "name": "stderr",
     "output_type": "stream",
     "text": [
      "/var/folders/4n/bjfxt15j0rz22bn518w__b500000gn/T/ipykernel_18591/4045980803.py:1: SettingWithCopyWarning: \n",
      "A value is trying to be set on a copy of a slice from a DataFrame.\n",
      "Try using .loc[row_indexer,col_indexer] = value instead\n",
      "\n",
      "See the caveats in the documentation: https://pandas.pydata.org/pandas-docs/stable/user_guide/indexing.html#returning-a-view-versus-a-copy\n",
      "  race['last_price'] = [26,46,3.05,3.5,3.65,13]\n"
     ]
    }
   ],
   "source": [
    "race['last_price'] = [26,46,3.05,3.5,3.65,13]"
   ]
  },
  {
   "cell_type": "code",
   "execution_count": 51,
   "metadata": {},
   "outputs": [
    {
     "data": {
      "text/plain": [
       "array([0.03780783, 0.0134843 , 0.25356297, 0.33373991, 0.23123365,\n",
       "       0.06972879])"
      ]
     },
     "execution_count": 51,
     "metadata": {},
     "output_type": "execute_result"
    }
   ],
   "source": [
    "model.predict(race)"
   ]
  },
  {
   "cell_type": "code",
   "execution_count": 6,
   "metadata": {},
   "outputs": [],
   "source": [
    "model = pickle.load(open( \"../artifacts/trained_model.pkl\", \"rb\"))"
   ]
  },
  {
   "cell_type": "code",
   "execution_count": 8,
   "metadata": {},
   "outputs": [
    {
     "data": {
      "text/html": [
       "<div>\n",
       "<style scoped>\n",
       "    .dataframe tbody tr th:only-of-type {\n",
       "        vertical-align: middle;\n",
       "    }\n",
       "\n",
       "    .dataframe tbody tr th {\n",
       "        vertical-align: top;\n",
       "    }\n",
       "\n",
       "    .dataframe thead th {\n",
       "        text-align: right;\n",
       "    }\n",
       "</style>\n",
       "<table border=\"1\" class=\"dataframe\">\n",
       "  <thead>\n",
       "    <tr style=\"text-align: right;\">\n",
       "      <th></th>\n",
       "      <th>date</th>\n",
       "      <th>horse_name</th>\n",
       "      <th>last_price</th>\n",
       "      <th>model_prob</th>\n",
       "      <th>kelly</th>\n",
       "      <th>bet</th>\n",
       "      <th>bet_size</th>\n",
       "    </tr>\n",
       "  </thead>\n",
       "  <tbody>\n",
       "    <tr>\n",
       "      <th>54</th>\n",
       "      <td>2022-03-11</td>\n",
       "      <td>Graffiti</td>\n",
       "      <td>26.00</td>\n",
       "      <td>0.044110</td>\n",
       "      <td>0.005875</td>\n",
       "      <td>False</td>\n",
       "      <td>0.000000</td>\n",
       "    </tr>\n",
       "    <tr>\n",
       "      <th>55</th>\n",
       "      <td>2022-03-11</td>\n",
       "      <td>Thermometer</td>\n",
       "      <td>46.00</td>\n",
       "      <td>0.011965</td>\n",
       "      <td>-0.009992</td>\n",
       "      <td>False</td>\n",
       "      <td>-0.000000</td>\n",
       "    </tr>\n",
       "    <tr>\n",
       "      <th>56</th>\n",
       "      <td>2022-03-11</td>\n",
       "      <td>Government</td>\n",
       "      <td>3.05</td>\n",
       "      <td>0.225892</td>\n",
       "      <td>-0.151722</td>\n",
       "      <td>False</td>\n",
       "      <td>-0.000000</td>\n",
       "    </tr>\n",
       "    <tr>\n",
       "      <th>57</th>\n",
       "      <td>2022-03-11</td>\n",
       "      <td>Aegis Power</td>\n",
       "      <td>3.50</td>\n",
       "      <td>0.314550</td>\n",
       "      <td>0.040370</td>\n",
       "      <td>True</td>\n",
       "      <td>20.184975</td>\n",
       "    </tr>\n",
       "    <tr>\n",
       "      <th>58</th>\n",
       "      <td>2022-03-11</td>\n",
       "      <td>Illuminated</td>\n",
       "      <td>3.65</td>\n",
       "      <td>0.213146</td>\n",
       "      <td>-0.083780</td>\n",
       "      <td>False</td>\n",
       "      <td>-0.000000</td>\n",
       "    </tr>\n",
       "    <tr>\n",
       "      <th>59</th>\n",
       "      <td>2022-03-11</td>\n",
       "      <td>Young Winston</td>\n",
       "      <td>13.00</td>\n",
       "      <td>0.060186</td>\n",
       "      <td>-0.018132</td>\n",
       "      <td>False</td>\n",
       "      <td>-0.000000</td>\n",
       "    </tr>\n",
       "  </tbody>\n",
       "</table>\n",
       "</div>"
      ],
      "text/plain": [
       "          date     horse_name  last_price  model_prob     kelly    bet  \\\n",
       "54  2022-03-11       Graffiti       26.00    0.044110  0.005875  False   \n",
       "55  2022-03-11    Thermometer       46.00    0.011965 -0.009992  False   \n",
       "56  2022-03-11     Government        3.05    0.225892 -0.151722  False   \n",
       "57  2022-03-11    Aegis Power        3.50    0.314550  0.040370   True   \n",
       "58  2022-03-11    Illuminated        3.65    0.213146 -0.083780  False   \n",
       "59  2022-03-11  Young Winston       13.00    0.060186 -0.018132  False   \n",
       "\n",
       "     bet_size  \n",
       "54   0.000000  \n",
       "55  -0.000000  \n",
       "56  -0.000000  \n",
       "57  20.184975  \n",
       "58  -0.000000  \n",
       "59  -0.000000  "
      ]
     },
     "execution_count": 8,
     "metadata": {},
     "output_type": "execute_result"
    }
   ],
   "source": [
    "model.make_bets(race)"
   ]
  },
  {
   "cell_type": "code",
   "execution_count": 27,
   "metadata": {},
   "outputs": [],
   "source": [
    "train = df_race.loc[(df_race.date < '2021-01-01')].copy()\n",
    "test = df_race.loc[(df_race.date >= '2021-01-01') & (df_race.date < '2021-12-01')].copy()\n",
    "\n",
    "not_features = ['race_id','date','datetime','won','price','horse_name','finish_pos']"
   ]
  },
  {
   "cell_type": "code",
   "execution_count": 4,
   "metadata": {},
   "outputs": [
    {
     "name": "stdout",
     "output_type": "stream",
     "text": [
      "[LightGBM] [Info] Total Bins 40464\n",
      "[LightGBM] [Info] Number of data points in the train set: 697222, number of used features: 172\n",
      "[LightGBM] [Info] Total Bins 40478\n",
      "[LightGBM] [Info] Number of data points in the train set: 522916, number of used features: 172\n",
      "[LightGBM] [Info] Total Bins 40468\n",
      "[LightGBM] [Info] Number of data points in the train set: 522916, number of used features: 172\n",
      "[LightGBM] [Info] Total Bins 40464\n",
      "[LightGBM] [Info] Number of data points in the train set: 522917, number of used features: 172\n",
      "[LightGBM] [Info] Total Bins 40398\n",
      "[LightGBM] [Info] Number of data points in the train set: 522917, number of used features: 172\n",
      "[LightGBM] [Info] Number of positive: 74797, number of negative: 622425\n",
      "[LightGBM] [Info] Total Bins 40974\n",
      "[LightGBM] [Info] Number of data points in the train set: 697222, number of used features: 174\n",
      "[LightGBM] [Warning] No further splits with positive gain, best gain: -inf\n",
      "[LightGBM] [Warning] No further splits with positive gain, best gain: -inf\n",
      "[LightGBM] [Warning] No further splits with positive gain, best gain: -inf\n",
      "[LightGBM] [Warning] No further splits with positive gain, best gain: -inf\n"
     ]
    },
    {
     "data": {
      "text/plain": [
       "<arion.models.core.ArionModel at 0x7ff4451d8550>"
      ]
     },
     "execution_count": 4,
     "metadata": {},
     "output_type": "execute_result"
    }
   ],
   "source": [
    "model = ArionModel(not_features=not_features)\n",
    "model.train(train=train)"
   ]
  },
  {
   "cell_type": "code",
   "execution_count": 5,
   "metadata": {},
   "outputs": [
    {
     "data": {
      "text/plain": [
       "array([0.21076885, 0.2362275 , 0.11928718, ..., 0.04279075, 0.17325493,\n",
       "       0.01405589])"
      ]
     },
     "execution_count": 5,
     "metadata": {},
     "output_type": "execute_result"
    }
   ],
   "source": [
    "model.predict(X=test)"
   ]
  },
  {
   "cell_type": "code",
   "execution_count": 105,
   "metadata": {},
   "outputs": [
    {
     "name": "stdout",
     "output_type": "stream",
     "text": [
      "[LightGBM] [Info] Total Bins 40434\n",
      "[LightGBM] [Info] Number of data points in the train set: 486407, number of used features: 172\n",
      "[LightGBM] [Info] Total Bins 40425\n",
      "[LightGBM] [Info] Number of data points in the train set: 486407, number of used features: 172\n",
      "[LightGBM] [Info] Total Bins 40434\n",
      "[LightGBM] [Info] Number of data points in the train set: 486407, number of used features: 172\n",
      "[LightGBM] [Info] Total Bins 40396\n",
      "[LightGBM] [Info] Number of data points in the train set: 486408, number of used features: 172\n"
     ]
    }
   ],
   "source": [
    "y_rank = train[\"finish_pos\"]\n",
    "y = train['won']\n",
    "skf = StratifiedKFold(n_splits=4)\n",
    "oof = np.zeros(len(train))\n",
    "\n",
    "callbacks = [lgb.early_stopping(40, verbose=0), lgb.log_evaluation(period=0)]\n",
    "\n",
    "rank_params = {\n",
    "    'boost_from_average':False,\n",
    "    'num_leaves': 64,\n",
    "    'objective': 'lambdarank',\n",
    "    'num_threads': 7,\n",
    "    'eta': 0.02,\n",
    "    'bagging_fraction': 0.9,\n",
    "    'bagging_freq': 4,\n",
    "    'max_depth': 12,\n",
    "    \"lambda_l2\":0,\n",
    "    \"drop_rate\":0,\n",
    "    'min_data_in_leaf': 3000,\n",
    "    'force_col_wise':True\n",
    "    }\n",
    "\n",
    "for train_index, test_index in skf.split(train,y):\n",
    "    X_train, X_val = train.iloc[train_index], train.iloc[test_index]\n",
    "    y_train_rank, y_val_rank = y_rank.iloc[train_index], y_rank.iloc[test_index]\n",
    "    y_train, y_val = y.iloc[train_index], y.iloc[test_index]\n",
    "    \n",
    "    q_train = X_train[\"race_id\"].value_counts()[X_train[\"race_id\"].unique()]\n",
    "    q_val = X_val[\"race_id\"].value_counts()[X_val[\"race_id\"].unique()]\n",
    "\n",
    "    X_train = X_train.drop(columns=not_features)\n",
    "    X_val = X_val.drop(columns=not_features)\n",
    "\n",
    "    dtrain = lgb.Dataset(X_train,label = y_train_rank,free_raw_data=False,\n",
    "                            group = q_train)\n",
    "    dval = lgb.Dataset(X_val,label = y_val_rank,free_raw_data=False,\n",
    "                            group = q_val,reference=dtrain)\n",
    "    \n",
    "    model = lgb.train(rank_params,\n",
    "                    dtrain,\n",
    "                    valid_sets=[dtrain, dval],\n",
    "                    num_boost_round=200,\n",
    "                    callbacks = callbacks\n",
    "                )\n",
    "    \n",
    "    y_pred = -model.predict(X_val)    \n",
    "    oof[test_index] = y_pred"
   ]
  },
  {
   "cell_type": "code",
   "execution_count": 6,
   "metadata": {},
   "outputs": [],
   "source": []
  },
  {
   "cell_type": "code",
   "execution_count": 106,
   "metadata": {},
   "outputs": [
    {
     "name": "stdout",
     "output_type": "stream",
     "text": [
      "[LightGBM] [Info] Total Bins 40432\n",
      "[LightGBM] [Info] Number of data points in the train set: 648543, number of used features: 172\n"
     ]
    }
   ],
   "source": [
    "# #Train final model on full training set\n",
    "y_train_rank = train['finish_pos']\n",
    "y_val_rank = val['finish_pos']\n",
    "\n",
    "X_train = train.drop(columns=not_features)\n",
    "X_val = val.drop(columns=not_features)\n",
    "X_test = test.drop(columns=not_features)\n",
    "\n",
    "q_train = train[\"race_id\"].value_counts()[train[\"race_id\"].unique()]\n",
    "q_val = val[\"race_id\"].value_counts()[val[\"race_id\"].unique()]\n",
    "\n",
    "dtrain = lgb.Dataset(X_train,label = y_train_rank,free_raw_data=False,\n",
    "                            group = q_train)\n",
    "dval = lgb.Dataset(X_val,label = y_val_rank,free_raw_data=False,\n",
    "                            group = q_val,reference=dtrain)\n",
    "\n",
    "lgbst_rank = lgb.train(rank_params,\n",
    "                    dtrain,\n",
    "                    valid_sets=[dtrain, dval],\n",
    "                    num_boost_round=200,\n",
    "                    callbacks = callbacks\n",
    "                )\n",
    "\n",
    "train[\"rank\"] = oof\n",
    "train[\"prob\"] = train[[\"race_id\",\"rank\"]].groupby(\"race_id\")[\"rank\"].apply(lambda x: np.exp(x)/sum(np.exp(x)))\n",
    "\n",
    "val[\"rank\"] =  -lgbst_rank.predict(X_val)\n",
    "val[\"prob\"] = val[[\"race_id\",\"rank\"]].groupby(\"race_id\")[\"rank\"].apply(lambda x: np.exp(x)/sum(np.exp(x)))\n",
    "\n",
    "\n",
    "test[\"rank\"] =  -lgbst_rank.predict(X_test)\n",
    "test[\"prob\"] = test[[\"race_id\",\"rank\"]].groupby(\"race_id\")[\"rank\"].apply(lambda x: np.exp(x)/sum(np.exp(x)))"
   ]
  },
  {
   "cell_type": "code",
   "execution_count": 107,
   "metadata": {},
   "outputs": [],
   "source": [
    "X_train = train.drop(columns=not_features)\n",
    "X_val = val.drop(columns=not_features)\n",
    "X_test = test.drop(columns=not_features)"
   ]
  },
  {
   "cell_type": "code",
   "execution_count": 117,
   "metadata": {},
   "outputs": [
    {
     "name": "stdout",
     "output_type": "stream",
     "text": [
      "[LightGBM] [Info] Number of positive: 69689, number of negative: 578854\n",
      "[LightGBM] [Info] Total Bins 40942\n",
      "[LightGBM] [Info] Number of data points in the train set: 648543, number of used features: 174\n",
      "[50]\tvalid_0's binary_logloss: 0.307424\n",
      "[100]\tvalid_0's binary_logloss: 0.287722\n",
      "[150]\tvalid_0's binary_logloss: 0.2865\n",
      "[200]\tvalid_0's binary_logloss: 0.286279\n",
      "[LightGBM] [Warning] No further splits with positive gain, best gain: -inf\n",
      "[250]\tvalid_0's binary_logloss: 0.28622\n",
      "[300]\tvalid_0's binary_logloss: 0.286189\n",
      "[LightGBM] [Warning] No further splits with positive gain, best gain: -inf\n",
      "[350]\tvalid_0's binary_logloss: 0.286261\n",
      "[LightGBM] [Warning] No further splits with positive gain, best gain: -inf\n",
      "[400]\tvalid_0's binary_logloss: 0.286363\n"
     ]
    }
   ],
   "source": [
    "y_train = train['won']\n",
    "y_val = val['won']\n",
    "y_test = test['won']\n",
    "callbacks = [ lgb.log_evaluation(period=50)]\n",
    "\n",
    "params = {\n",
    "            'boost_from_average':False,\n",
    "            'num_leaves': 64,\n",
    "            'objective': 'binary',\n",
    "            'num_threads': 7,\n",
    "            'eta': 0.04,\n",
    "            'bagging_fraction': 0.9,\n",
    "            'bagging_freq': 2,\n",
    "            'max_depth': 16,\n",
    "            \"lambda_l2\":0,\n",
    "            \"drop_rate\":0.3,\n",
    "            'min_data_in_leaf': 3000,\n",
    "            \"metric\":'binary_logloss',\n",
    "            'force_col_wise':True\n",
    "            }\n",
    "\n",
    "train_lgb = lgb.Dataset(X_train,label = y_train,free_raw_data=False)\n",
    "val_lgb = lgb.Dataset(X_val,label = y_val,free_raw_data=False,reference = train_lgb)\n",
    "\n",
    "lgbst = lgb.train(train_set = train_lgb,params = params, valid_sets=val_lgb,\n",
    "                     num_boost_round=400, callbacks=callbacks)"
   ]
  },
  {
   "cell_type": "code",
   "execution_count": 29,
   "metadata": {},
   "outputs": [],
   "source": [
    "def bet_simulate(t, kelly_min, prob_min ,starting_balance):\n",
    "    trial = df_race.loc[t.index,[\"race_id\",\"last_price\",\"won\",\"date\",\"price\"]].copy()\n",
    "\n",
    "    trial[\"pred_prob\"] =model.predict(X=t)\n",
    "    trial[\"pred_sp\"] = 1/trial[\"pred_prob\"]\n",
    "    trial[\"kelly\"] = ((trial[\"pred_prob\"]*trial[\"last_price\"]) - 1)/(trial[\"last_price\"] - 1)\n",
    "    \n",
    "    trial[\"bet\"] = (trial[\"pred_prob\"] > prob_min)  & (trial['kelly'] > kelly_min)\n",
    "    isnoise = [len(str(i)) > 5 for i in trial[\"last_price\"]]\n",
    "    #trial.loc[isnoise,\"last_price\"] = trial.loc[isnoise,\"dec\"]\n",
    "    trial[\"winnings\"] = (trial['bet'] * trial[\"kelly\"] * starting_balance * trial[\"last_price\"] * trial[\"won\"] * 0.95) - (trial['bet'] * trial[\"kelly\"] * starting_balance)\n",
    "    trial[\"bank\"] = trial[\"winnings\"].cumsum()\n",
    "    trial[\"bet size\"] = trial[\"bet\"]*trial[\"kelly\"]*starting_balance\n",
    "\n",
    "    return trial\n",
    "\n",
    "def evaluate(t,prob_min = 0.2,kelly_min = 0.05):\n",
    "\n",
    "\n",
    "    t = bet_simulate(t,prob_min=prob_min,kelly_min=kelly_min ,starting_balance = 100)\n",
    "\n",
    "    roi = sum(t[\"winnings\"])/sum(t[\"bet\"] * t[\"kelly\"] * 100)\n",
    "    sr = sum((t['bet']) & (t['won']))/sum(t[\"bet\"])\n",
    "\n",
    "    final_balance = round(int(t['bank'][-1:]),2)\n",
    "    bets_per_day = round(sum(t['bet'])/len(t['date'].unique()),2)\n",
    "    ROI = round(roi*100,2)\n",
    "    SR = round(sr*100,2)\n",
    "    min_balance = round(min(t[\"bank\"]),2) + 100 \n",
    "    avg_betsize_day = t.groupby('date')['bet size'].sum()\n",
    "    avg_bet_size = round(t.loc[t['bet'] ==1,\"bet size\"].mean(),2)\n",
    "    max_bet = round(t.loc[t['bet'] ==1,\"bet size\"].max(),2)\n",
    "\n",
    "    sns.set(rc={'figure.figsize':(11.7,8.27)})\n",
    "    plot = plt.plot(t['date'],t['bank'], label = \"prob:\" + str(prob_min)+ \" kelly:\" + str(kelly_min))\n",
    "    plt.legend()\n",
    "    out = {'prob_min':prob_min,\n",
    "           'kelly_min':kelly_min,\n",
    "           'final_balance':final_balance,\n",
    "           'bets_per_day':bets_per_day,\n",
    "           'ROI':ROI,\n",
    "           'SR':SR,\n",
    "           'min_balance':min_balance,\n",
    "           'avg_bet_size':avg_bet_size,\n",
    "           'max_bet':max_bet}\n",
    "\n",
    "    return out,plot\n"
   ]
  },
  {
   "cell_type": "code",
   "execution_count": 13,
   "metadata": {},
   "outputs": [],
   "source": [
    "t = bet_simulate(test, kelly_min=0.03, prob_min=0.2, starting_balance=500)"
   ]
  },
  {
   "cell_type": "code",
   "execution_count": 18,
   "metadata": {},
   "outputs": [
    {
     "data": {
      "text/plain": [
       "523.9922150499235"
      ]
     },
     "execution_count": 18,
     "metadata": {},
     "output_type": "execute_result"
    }
   ],
   "source": [
    "t.groupby('date')['bet size'].sum().mean()"
   ]
  },
  {
   "cell_type": "code",
   "execution_count": 55,
   "metadata": {},
   "outputs": [
    {
     "data": {
      "text/html": [
       "<div>\n",
       "<style scoped>\n",
       "    .dataframe tbody tr th:only-of-type {\n",
       "        vertical-align: middle;\n",
       "    }\n",
       "\n",
       "    .dataframe tbody tr th {\n",
       "        vertical-align: top;\n",
       "    }\n",
       "\n",
       "    .dataframe thead th {\n",
       "        text-align: right;\n",
       "    }\n",
       "</style>\n",
       "<table border=\"1\" class=\"dataframe\">\n",
       "  <thead>\n",
       "    <tr style=\"text-align: right;\">\n",
       "      <th></th>\n",
       "      <th>prob_min</th>\n",
       "      <th>kelly_min</th>\n",
       "      <th>final_balance</th>\n",
       "      <th>bets_per_day</th>\n",
       "      <th>ROI</th>\n",
       "      <th>SR</th>\n",
       "      <th>min_balance</th>\n",
       "      <th>avg_bet_size</th>\n",
       "      <th>max_bet</th>\n",
       "    </tr>\n",
       "  </thead>\n",
       "  <tbody>\n",
       "    <tr>\n",
       "      <th>0</th>\n",
       "      <td>0.1</td>\n",
       "      <td>0.02</td>\n",
       "      <td>6464</td>\n",
       "      <td>28.48</td>\n",
       "      <td>10.55</td>\n",
       "      <td>22.16</td>\n",
       "      <td>78.34</td>\n",
       "      <td>6.94</td>\n",
       "      <td>50.73</td>\n",
       "    </tr>\n",
       "    <tr>\n",
       "      <th>1</th>\n",
       "      <td>0.1</td>\n",
       "      <td>0.03</td>\n",
       "      <td>6503</td>\n",
       "      <td>22.50</td>\n",
       "      <td>11.48</td>\n",
       "      <td>23.92</td>\n",
       "      <td>89.03</td>\n",
       "      <td>8.12</td>\n",
       "      <td>50.73</td>\n",
       "    </tr>\n",
       "    <tr>\n",
       "      <th>2</th>\n",
       "      <td>0.1</td>\n",
       "      <td>0.04</td>\n",
       "      <td>5619</td>\n",
       "      <td>17.64</td>\n",
       "      <td>10.94</td>\n",
       "      <td>25.32</td>\n",
       "      <td>89.03</td>\n",
       "      <td>9.40</td>\n",
       "      <td>50.73</td>\n",
       "    </tr>\n",
       "    <tr>\n",
       "      <th>3</th>\n",
       "      <td>0.2</td>\n",
       "      <td>0.02</td>\n",
       "      <td>5709</td>\n",
       "      <td>15.70</td>\n",
       "      <td>12.59</td>\n",
       "      <td>30.14</td>\n",
       "      <td>81.53</td>\n",
       "      <td>9.32</td>\n",
       "      <td>50.73</td>\n",
       "    </tr>\n",
       "    <tr>\n",
       "      <th>4</th>\n",
       "      <td>0.2</td>\n",
       "      <td>0.03</td>\n",
       "      <td>5863</td>\n",
       "      <td>14.15</td>\n",
       "      <td>13.28</td>\n",
       "      <td>30.82</td>\n",
       "      <td>72.30</td>\n",
       "      <td>10.06</td>\n",
       "      <td>50.73</td>\n",
       "    </tr>\n",
       "    <tr>\n",
       "      <th>5</th>\n",
       "      <td>0.2</td>\n",
       "      <td>0.04</td>\n",
       "      <td>5843</td>\n",
       "      <td>12.51</td>\n",
       "      <td>13.80</td>\n",
       "      <td>31.43</td>\n",
       "      <td>59.74</td>\n",
       "      <td>10.92</td>\n",
       "      <td>50.73</td>\n",
       "    </tr>\n",
       "    <tr>\n",
       "      <th>6</th>\n",
       "      <td>0.3</td>\n",
       "      <td>0.02</td>\n",
       "      <td>3088</td>\n",
       "      <td>7.68</td>\n",
       "      <td>10.31</td>\n",
       "      <td>38.04</td>\n",
       "      <td>84.44</td>\n",
       "      <td>12.57</td>\n",
       "      <td>50.73</td>\n",
       "    </tr>\n",
       "    <tr>\n",
       "      <th>7</th>\n",
       "      <td>0.3</td>\n",
       "      <td>0.03</td>\n",
       "      <td>3075</td>\n",
       "      <td>7.25</td>\n",
       "      <td>10.39</td>\n",
       "      <td>38.05</td>\n",
       "      <td>82.90</td>\n",
       "      <td>13.17</td>\n",
       "      <td>50.73</td>\n",
       "    </tr>\n",
       "    <tr>\n",
       "      <th>8</th>\n",
       "      <td>0.3</td>\n",
       "      <td>0.04</td>\n",
       "      <td>3087</td>\n",
       "      <td>6.84</td>\n",
       "      <td>10.59</td>\n",
       "      <td>38.21</td>\n",
       "      <td>86.54</td>\n",
       "      <td>13.75</td>\n",
       "      <td>50.73</td>\n",
       "    </tr>\n",
       "  </tbody>\n",
       "</table>\n",
       "</div>"
      ],
      "text/plain": [
       "   prob_min  kelly_min  final_balance  bets_per_day    ROI     SR  \\\n",
       "0       0.1       0.02           6464         28.48  10.55  22.16   \n",
       "1       0.1       0.03           6503         22.50  11.48  23.92   \n",
       "2       0.1       0.04           5619         17.64  10.94  25.32   \n",
       "3       0.2       0.02           5709         15.70  12.59  30.14   \n",
       "4       0.2       0.03           5863         14.15  13.28  30.82   \n",
       "5       0.2       0.04           5843         12.51  13.80  31.43   \n",
       "6       0.3       0.02           3088          7.68  10.31  38.04   \n",
       "7       0.3       0.03           3075          7.25  10.39  38.05   \n",
       "8       0.3       0.04           3087          6.84  10.59  38.21   \n",
       "\n",
       "   min_balance  avg_bet_size  max_bet  \n",
       "0        78.34          6.94    50.73  \n",
       "1        89.03          8.12    50.73  \n",
       "2        89.03          9.40    50.73  \n",
       "3        81.53          9.32    50.73  \n",
       "4        72.30         10.06    50.73  \n",
       "5        59.74         10.92    50.73  \n",
       "6        84.44         12.57    50.73  \n",
       "7        82.90         13.17    50.73  \n",
       "8        86.54         13.75    50.73  "
      ]
     },
     "execution_count": 55,
     "metadata": {},
     "output_type": "execute_result"
    },
    {
     "data": {
      "image/png": "[encoded data removed]",
      "text/plain": [
       "<Figure size 842.4x595.44 with 1 Axes>"
      ]
     },
     "metadata": {},
     "output_type": "display_data"
    }
   ],
   "source": [
    "outs = []\n",
    "params = []\n",
    "for i in [0.1,0.2,0.3]:\n",
    "    for j in [0.02,0.03,0.04]:\n",
    "        params.append([i,j])\n",
    "        outs.append(evaluate(test,prob_min=i, kelly_min = j))\n",
    "\n",
    "\n",
    "pd.DataFrame([d[0] for d in outs])"
   ]
  },
  {
   "cell_type": "code",
   "execution_count": 22,
   "metadata": {},
   "outputs": [
    {
     "ename": "NameError",
     "evalue": "name 'y_test' is not defined",
     "output_type": "error",
     "traceback": [
      "\u001b[0;31m---------------------------------------------------------------------------\u001b[0m",
      "\u001b[0;31mNameError\u001b[0m                                 Traceback (most recent call last)",
      "\u001b[1;32m/Users/leomccarthy/Documents/arion/notebooks/model_build.ipynb Cell 15'\u001b[0m in \u001b[0;36m<cell line: 1>\u001b[0;34m()\u001b[0m\n\u001b[0;32m----> <a href='vscode-notebook-cell:/Users/leomccarthy/Documents/arion/notebooks/model_build.ipynb#ch0000011?line=0'>1</a>\u001b[0m \u001b[39mprint\u001b[39m(\u001b[39m\"\u001b[39m\u001b[39mModel val log-loss = \u001b[39m\u001b[39m\"\u001b[39m, log_loss(y_test,lgbst\u001b[39m.\u001b[39mpredict(X_test)), \u001b[39m\"\u001b[39m\u001b[39mSP val log-loss = \u001b[39m\u001b[39m\"\u001b[39m, log_loss(y_test, \u001b[39m1\u001b[39m\u001b[39m/\u001b[39mdf_race\u001b[39m.\u001b[39mloc[X_test\u001b[39m.\u001b[39mindex,\u001b[39m\"\u001b[39m\u001b[39mlast_price\u001b[39m\u001b[39m\"\u001b[39m]))\n\u001b[1;32m      <a href='vscode-notebook-cell:/Users/leomccarthy/Documents/arion/notebooks/model_build.ipynb#ch0000011?line=1'>2</a>\u001b[0m plt\u001b[39m.\u001b[39mfigure(figsize\u001b[39m=\u001b[39m(\u001b[39m8\u001b[39m, \u001b[39m6\u001b[39m), dpi\u001b[39m=\u001b[39m\u001b[39m80\u001b[39m)\n\u001b[1;32m      <a href='vscode-notebook-cell:/Users/leomccarthy/Documents/arion/notebooks/model_build.ipynb#ch0000011?line=2'>3</a>\u001b[0m fop, mpv \u001b[39m=\u001b[39m calibration_curve(y_test, \u001b[39m1\u001b[39m\u001b[39m/\u001b[39mdf_race\u001b[39m.\u001b[39mloc[X_test\u001b[39m.\u001b[39mindex,\u001b[39m\"\u001b[39m\u001b[39mlast_price\u001b[39m\u001b[39m\"\u001b[39m],n_bins\u001b[39m=\u001b[39m\u001b[39m20\u001b[39m)\n",
      "\u001b[0;31mNameError\u001b[0m: name 'y_test' is not defined"
     ]
    }
   ],
   "source": [
    "print(\"Model val log-loss = \", log_loss(y_test,lgbst.predict(X_test)), \"SP val log-loss = \", log_loss(y_test, 1/df_race.loc[X_test.index,\"last_price\"]))\n",
    "plt.figure(figsize=(8, 6), dpi=80)\n",
    "fop, mpv = calibration_curve(y_test, 1/df_race.loc[X_test.index,\"last_price\"],n_bins=20)\n",
    "fop1, mpv1 = calibration_curve(y_test,lgbst.predict(X_test),n_bins=20)\n",
    "# plot perfectly calibrated\n",
    "plt.plot([0, 1], [0, 1], linestyle='--')\n",
    "# plot model reliability\n",
    "plt.plot(mpv1, fop1, marker='.', color = \"green\")\n",
    "plt.plot(mpv, fop, marker='.')\n",
    "\n",
    "plt.show()"
   ]
  },
  {
   "cell_type": "code",
   "execution_count": null,
   "metadata": {},
   "outputs": [],
   "source": []
  }
 ],
 "metadata": {
  "interpreter": {
   "hash": "dfc1faf946c46b94af5aad6e1922cea8b016cc69380581207dcf6759d7c17b11"
  },
  "kernelspec": {
   "display_name": "Python 3.8.1 ('.venv': venv)",
   "language": "python",
   "name": "python3"
  },
  "language_info": {
   "codemirror_mode": {
    "name": "ipython",
    "version": 3
   },
   "file_extension": ".py",
   "mimetype": "text/x-python",
   "name": "python",
   "nbconvert_exporter": "python",
   "pygments_lexer": "ipython3",
   "version": "3.8.1"
  },
  "orig_nbformat": 4
 },
 "nbformat": 4,
 "nbformat_minor": 2
}
